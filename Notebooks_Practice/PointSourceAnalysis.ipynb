{
 "cells": [
  {
   "cell_type": "markdown",
   "metadata": {},
   "source": [
    "# Import Relevant Packages"
   ]
  },
  {
   "cell_type": "code",
   "execution_count": 1,
   "metadata": {},
   "outputs": [],
   "source": [
    "from __future__ import print_function\n",
    "#from csky.ipyconfig import *\n",
    "from csky import bk, analysis, coord, dists, hyp, inj, llh, pdf, selections, trial, utils\n",
    "import histlite as hl\n",
    "import numpy as np\n",
    "%matplotlib inline\n",
    "from matplotlib import pyplot as plt\n",
    "\n",
    "mp_cpus = 15"
   ]
  },
  {
   "cell_type": "markdown",
   "metadata": {},
   "source": [
    "# Load analysis data sets"
   ]
  },
  {
   "cell_type": "code",
   "execution_count": 2,
   "metadata": {},
   "outputs": [],
   "source": [
    "ana_dir = utils.ensure_dir ('/data/user/drysewyk/csky_cache/ana')\n",
    "repo = selections.mrichman_repo\n",
    "# cp /data/user/mrichman/data/analyses/* ...\n",
    "#repo = selections.Repository(local_root='/data/user/drysewyk/data/analyses',remote_root='/data/ana/analyses')"
   ]
  },
  {
   "cell_type": "code",
   "execution_count": 3,
   "metadata": {},
   "outputs": [
    {
     "name": "stdout",
     "output_type": "stream",
     "text": [
      "Setting up Analysis for:\n",
      "IC40, IC59, IC79, IC86_2011, IC86_2012_2014, GFU_2015_2017\n",
      "Setting up IC40...\n",
      "Reading /data/user/mrichman/data/analyses/ps_tracks/current/IC40_MC.npy ...\n",
      "Reading /data/user/mrichman/data/analyses/ps_tracks/current/IC40_exp.npy ...\n",
      "<- /data/user/drysewyk/csky_cache/ana/IC40.subanalysis.npy    \n",
      "Setting up IC59...\n",
      "Reading /data/user/mrichman/data/analyses/ps_tracks/current/IC59_MC.npy ...\n",
      "Reading /data/user/mrichman/data/analyses/ps_tracks/current/IC59_exp.npy ...\n",
      "<- /data/user/drysewyk/csky_cache/ana/IC59.subanalysis.npy    \n",
      "Setting up IC79...\n",
      "Reading /data/user/mrichman/data/analyses/ps_tracks/current/IC79_MC.npy ...\n",
      "Reading /data/user/mrichman/data/analyses/ps_tracks/current/IC79_exp.npy ...\n",
      "<- /data/user/drysewyk/csky_cache/ana/IC79.subanalysis.npy    \n",
      "Setting up IC86_2011...\n",
      "Reading /data/user/mrichman/data/analyses/ps_tracks/current/IC86_2011_MC.npy ...\n",
      "Reading /data/user/mrichman/data/analyses/ps_tracks/current/IC86_2011_exp.npy ...\n",
      "<- /data/user/drysewyk/csky_cache/ana/IC86_2011.subanalysis.npy    \n",
      "Setting up IC86_2012_2014...\n",
      "Reading /data/user/mrichman/data/analyses/ps_tracks/current/IC86_2012_MC.npy ...\n",
      "Reading /data/user/mrichman/data/analyses/ps_tracks/current/IC86_2012_exp.npy ...\n",
      "Reading /data/user/mrichman/data/analyses/ps_tracks/current/IC86_2013_exp.npy ...\n",
      "Reading /data/user/mrichman/data/analyses/ps_tracks/current/IC86_2014_exp.npy ...\n",
      "<- /data/user/drysewyk/csky_cache/ana/IC86_2012_2014.subanalysis.npy    \n",
      "Setting up GFU_2015_2017...\n",
      "Reading /data/user/mrichman/data/analyses/gfu/current/IC86_2015_MC.npy ...\n",
      "Reading /data/user/mrichman/data/analyses/gfu/current/IC86_2015_data.npy ...\n",
      "Reading /data/user/mrichman/data/analyses/gfu/current/IC86_2016_data.npy ...\n",
      "Reading /data/user/mrichman/data/analyses/gfu/current/IC86_2017_data.npy ...\n",
      "<- /data/user/drysewyk/csky_cache/ana/GFU_2015_2017.subanalysis.npy    \n",
      "Done.\n"
     ]
    }
   ],
   "source": [
    "ana_7gfu = analysis.Analysis (repo, selections.PSDataSpecs.ps_7yr + selections.GFUDataSpecs.gfu_3yr, dir=ana_dir)"
   ]
  },
  {
   "cell_type": "code",
   "execution_count": 3,
   "metadata": {},
   "outputs": [
    {
     "name": "stdout",
     "output_type": "stream",
     "text": [
      "Setting up Analysis for:\n",
      "MESC_2010_2016_DNN\n",
      "Setting up MESC_2010_2016_DNN...\n",
      "Reading /data/user/mrichman/data/analyses/mese/current/mese_cascades_MC_2013_dnn.npy ...\n",
      "Reading /data/user/mrichman/data/analyses/mese/current/mese_cascades_2010_2016_dnn.npy ...\n",
      "<- /data/user/drysewyk/csky_cache/ana/MESC_2010_2016_DNN.subanalysis.npy    \n",
      "Done.\n"
     ]
    }
   ],
   "source": [
    "ana_mese = analysis.Analysis (repo, selections.MESEDataSpecs.mesc_7yr_dnn, dir=ana_dir)"
   ]
  },
  {
   "cell_type": "code",
   "execution_count": 5,
   "metadata": {},
   "outputs": [],
   "source": [
    "#ana_mese.save(ana_dir)"
   ]
  },
  {
   "cell_type": "code",
   "execution_count": 7,
   "metadata": {},
   "outputs": [
    {
     "name": "stdout",
     "output_type": "stream",
     "text": [
      "Setting up Analysis for:\n",
      "IC40, IC59, IC79, IC86_2011, IC86_2012_2014\n",
      "Setting up IC40...\n",
      "Reading /data/user/mrichman/data/analyses/ps_tracks/current/IC40_MC.npy ...\n",
      "Reading /data/user/mrichman/data/analyses/ps_tracks/current/IC40_exp.npy ...\n",
      "<- /data/user/drysewyk/csky_cache/ana/IC40.subanalysis.npy    \n",
      "Setting up IC59...\n",
      "Reading /data/user/mrichman/data/analyses/ps_tracks/current/IC59_MC.npy ...\n",
      "Reading /data/user/mrichman/data/analyses/ps_tracks/current/IC59_exp.npy ...\n",
      "<- /data/user/drysewyk/csky_cache/ana/IC59.subanalysis.npy    \n",
      "Setting up IC79...\n",
      "Reading /data/user/mrichman/data/analyses/ps_tracks/current/IC79_MC.npy ...\n",
      "Reading /data/user/mrichman/data/analyses/ps_tracks/current/IC79_exp.npy ...\n",
      "<- /data/user/drysewyk/csky_cache/ana/IC79.subanalysis.npy    \n",
      "Setting up IC86_2011...\n",
      "Reading /data/user/mrichman/data/analyses/ps_tracks/current/IC86_2011_MC.npy ...\n",
      "Reading /data/user/mrichman/data/analyses/ps_tracks/current/IC86_2011_exp.npy ...\n",
      "<- /data/user/drysewyk/csky_cache/ana/IC86_2011.subanalysis.npy    \n",
      "Setting up IC86_2012_2014...\n",
      "Reading /data/user/mrichman/data/analyses/ps_tracks/current/IC86_2012_MC.npy ...\n",
      "Reading /data/user/mrichman/data/analyses/ps_tracks/current/IC86_2012_exp.npy ...\n",
      "Reading /data/user/mrichman/data/analyses/ps_tracks/current/IC86_2013_exp.npy ...\n",
      "Reading /data/user/mrichman/data/analyses/ps_tracks/current/IC86_2014_exp.npy ...\n",
      "<- /data/user/drysewyk/csky_cache/ana/IC86_2012_2014.subanalysis.npy    \n",
      "Done.\n"
     ]
    }
   ],
   "source": [
    "ana_7 = analysis.Analysis (repo, selections.PSDataSpecs.ps_7yr, dir=ana_dir)"
   ]
  },
  {
   "cell_type": "code",
   "execution_count": 7,
   "metadata": {},
   "outputs": [
    {
     "name": "stdout",
     "output_type": "stream",
     "text": [
      "Setting up Analysis for:\n",
      "IC40, IC59, IC79, IC86_2011, IC86_2012_2014, MESC_2010_2016_DNN\n",
      "Setting up IC40...\n",
      "<- /data/user/drysewyk/csky_cache/ana/IC40.subanalysis.npy    \n",
      "Setting up IC59...\n",
      "<- /data/user/drysewyk/csky_cache/ana/IC59.subanalysis.npy    \n",
      "Setting up IC79...\n",
      "<- /data/user/drysewyk/csky_cache/ana/IC79.subanalysis.npy    \n",
      "Setting up IC86_2011...\n",
      "<- /data/user/drysewyk/csky_cache/ana/IC86_2011.subanalysis.npy    \n",
      "Setting up IC86_2012_2014...\n",
      "<- /data/user/drysewyk/csky_cache/ana/IC86_2012_2014.subanalysis.npy    \n",
      "Setting up MESC_2010_2016_DNN...\n",
      "<- /data/user/drysewyk/csky_cache/ana/MESC_2010_2016_DNN.subanalysis.npy    \n",
      "Done.\n"
     ]
    }
   ],
   "source": [
    "ana_tc = analysis.Analysis (repo, selections.PSDataSpecs.ps_7yr+selections.MESEDataSpecs.mesc_7yr_dnn, dir=ana_dir)"
   ]
  },
  {
   "cell_type": "markdown",
   "metadata": {},
   "source": [
    "# Point Source (TXS 0506+056)"
   ]
  },
  {
   "cell_type": "code",
   "execution_count": 4,
   "metadata": {},
   "outputs": [],
   "source": [
    "def get_llh (a, src, cut_n_sigma, fit_source):\n",
    "    #acc_param = pdf.SinDecCustomFluxAccParameterization (\n",
    "    #    a.sig, hyp.PowerLawFlux (2), hkw=a.kw_space_bg['hkw'])\n",
    "    SM = pdf.FitPointSourceSpacePDFRatioModel if fit_source else pdf.PointSourceSpacePDFRatioModel\n",
    "    space_model = SM (\n",
    "        a, src, a.bg_space_param, a.acc_param, cut_n_sigma=cut_n_sigma)\n",
    "    # energy PDF - use default parameterization\n",
    "    energy_model = a.energy_pdf_ratio_model\n",
    "    # put it together\n",
    "    pdf_ratio_model = pdf.MultiPDFRatioModel (space_model, energy_model)\n",
    "    #pdf_ratio_model = space_model\n",
    "    N = len (a.data)\n",
    "    llh_model = llh.LLHModel (pdf_ratio_model, N, cut_n_sigma=cut_n_sigma)\n",
    "    return llh_model\n",
    "\n",
    "def get_injs (a, llh_model, src, flux, cut_n_sigma):\n",
    "    # note which event features we need\n",
    "    keep = llh_model.pdf_ratio_model.keep\n",
    "    randomizers = [inj.RARandomizer ()]\n",
    "    selector = inj.DecBandSelector (src, cut_n_sigma=cut_n_sigma)\n",
    "    # truth: unscrambled data, for unblinding\n",
    "    truth = inj.DataInjector (a, selector (a.data), keep, randomizers=[])\n",
    "    # bg: scrambled data\n",
    "    bg = inj.DataInjector (a, selector (a.data), keep, randomizers=randomizers)\n",
    "    # sig: signal injection\n",
    "    if a.key in 'LESE STeVE':\n",
    "        sindec_bandwidth = np.radians (5)\n",
    "    else:\n",
    "        sindec_bandwidth = np.radians (2)\n",
    "    sig = inj.PointSourceInjector (a, src, flux, keep, sindec_bandwidth=sindec_bandwidth)\n",
    "    return truth, bg, sig\n",
    "\n",
    "def get_tr (src, ana, flux=hyp.PowerLawFlux (2), cut_n_sigma=5,\n",
    "            fit_source=False,\n",
    "            mp_cpus=mp_cpus, **fitter_args):\n",
    "    # get_llh needs the src list\n",
    "    llh_kw = dict (src=src, cut_n_sigma=cut_n_sigma, fit_source=fit_source)\n",
    "    # get_injs needs the src list and signal spectrum\n",
    "    inj_kw = dict (src=src, flux=flux, cut_n_sigma=cut_n_sigma)\n",
    "    # trial.get_trial_runner loops over sub analyses and gives a single TrialRunner\n",
    "    fitter_args.setdefault ('gamma', np.r_[1:4.01:.5])\n",
    "    return trial.TrialRunner (\n",
    "        ana, get_llh, get_injs,\n",
    "        llh_kw=llh_kw, inj_kw=inj_kw,\n",
    "        fitter_args=fitter_args, mp_cpus=mp_cpus)"
   ]
  },
  {
   "cell_type": "code",
   "execution_count": 5,
   "metadata": {},
   "outputs": [],
   "source": [
    "co = selections.Coordinates\n",
    "src = co.to_sources (co.txs_0506_056)"
   ]
  },
  {
   "cell_type": "code",
   "execution_count": 8,
   "metadata": {},
   "outputs": [],
   "source": [
    "tr = get_tr (src, ana_7)\n",
    "tr_fit = get_tr (src, ana_7, fit_source=True)"
   ]
  },
  {
   "cell_type": "code",
   "execution_count": 9,
   "metadata": {},
   "outputs": [
    {
     "name": "stdout",
     "output_type": "stream",
     "text": [
      "TS                  9.39270285066\n",
      "ns                  23.5672619317\n",
      "gamma               2.50330300127\n"
     ]
    }
   ],
   "source": [
    "result = tr.get_one_fit (TRUTH=True) # 2gauss\n",
    "print (tr.format_result (result))"
   ]
  },
  {
   "cell_type": "code",
   "execution_count": 10,
   "metadata": {},
   "outputs": [
    {
     "name": "stdout",
     "output_type": "stream",
     "text": [
      "TS                  14.1147684193\n",
      "ns                  26.9431642937\n",
      "ra_0000             1.34674530672 (77.1628221542 deg)\n",
      "dec_0000            0.0939037358098 (5.38028774241 deg)\n",
      "gamma               2.49974276142\n"
     ]
    }
   ],
   "source": [
    "result_fit = tr_fit.get_one_fit (TRUTH=True)\n",
    "print (tr_fit.format_result (result_fit))"
   ]
  },
  {
   "cell_type": "code",
   "execution_count": 13,
   "metadata": {},
   "outputs": [
    {
     "data": {
      "text/plain": [
       "array([77.36,  5.69])"
      ]
     },
     "execution_count": 13,
     "metadata": {},
     "output_type": "execute_result"
    }
   ],
   "source": [
    "np.degrees (co.txs_0506_056[:2])"
   ]
  },
  {
   "cell_type": "code",
   "execution_count": 14,
   "metadata": {},
   "outputs": [
    {
     "data": {
      "text/plain": [
       "(4.8438760712636775,\n",
       " {'ns': 9.706579449845226},\n",
       " {'gamma': 2},\n",
       " {'_fit_null': False,\n",
       "  '_full_output': True,\n",
       "  '_ns_min': 0,\n",
       "  '_ns_tol': 0.0001,\n",
       "  '_taylor_tol': 0.001})"
      ]
     },
     "execution_count": 14,
     "metadata": {},
     "output_type": "execute_result"
    }
   ],
   "source": [
    "tr.get_one_fit(TRUTH=True,_full_output=True,gamma=2)"
   ]
  },
  {
   "cell_type": "code",
   "execution_count": 15,
   "metadata": {},
   "outputs": [
    {
     "name": "stdout",
     "output_type": "stream",
     "text": [
      "Performing 1000 background trials using 15 cores:\n",
      "       1000/1000 trials complete.   \n"
     ]
    }
   ],
   "source": [
    "many_results = tr.get_many_fits(1000)"
   ]
  },
  {
   "cell_type": "code",
   "execution_count": 16,
   "metadata": {},
   "outputs": [],
   "source": [
    "many_results = dists.Chi2TSD (many_results, floc=0)"
   ]
  },
  {
   "cell_type": "code",
   "execution_count": 17,
   "metadata": {},
   "outputs": [
    {
     "data": {
      "image/png": "[encoded data removed]",
      "text/plain": [
       "<matplotlib.figure.Figure at 0x7f38a1590750>"
      ]
     },
     "metadata": {},
     "output_type": "display_data"
    }
   ],
   "source": [
    "fig, ax = plt.subplots ()\n",
    "h = many_results.get_hist (bins=50)\n",
    "hl.plot1d (ax, h.normalize (), crosses=True)\n",
    "x = np.linspace (.1, h.range[0][-1], 100)\n",
    "ax.semilogy (x, many_results.eta * many_results.chi2.pdf (x), 'k--', lw=1)\n",
    "plt.tight_layout ()"
   ]
  },
  {
   "cell_type": "code",
   "execution_count": 18,
   "metadata": {},
   "outputs": [
    {
     "name": "stdout",
     "output_type": "stream",
     "text": [
      "Start time: 2018-11-07 13:55:43.863490\n",
      "Using 15 cores.\n",
      "* Starting initial scan for 90% of 50 trials with TS >= 0.108...\n",
      "  n_sig = 3.000 ... frac = 0.74000\n",
      "  n_sig = 6.000 ... frac = 0.86000\n",
      "  n_sig = 9.000 ... frac = 0.92000\n",
      "* Generating batches of 500 trials...\n",
      "n_trials | n_inj    0.00    2.70    5.40    8.10   10.80   13.50  | n_sig (relative error)\n",
      "500      |         49.0%   78.0%   93.4%   97.4%   98.8%   99.2%  |      4.508 (+/-  4.5%) [spline]\n",
      "1000     |         50.3%   78.6%   91.7%   97.1%   99.1%   99.4%  |      4.878 (+/-  5.1%) [spline]\n",
      "1500     |         48.5%   78.8%   91.0%   97.3%   99.1%   99.5%  |      5.088 (+/-  4.6%) [spline]\n",
      "2000     |         48.5%   78.4%   91.1%   97.4%   99.2%   99.6%  |      5.049 (+/-  4.0%) [spline]\n",
      "2500     |         49.2%   78.0%   91.2%   97.3%   99.0%   99.4%  |      5.051 (+/-  2.8%) [spline]\n",
      "End time: 2018-11-07 13:59:00.598309\n",
      "Elapsed time: 0:03:16.734819\n"
     ]
    }
   ],
   "source": [
    "sens = tr.find_n_sig (many_results.median (), 0.9, batch_size=500, tol=0.03)"
   ]
  },
  {
   "cell_type": "code",
   "execution_count": 19,
   "metadata": {},
   "outputs": [],
   "source": [
    "sens['flux'] = tr.to_E2dNdE(sens['n_sig'],hyp.PowerLawFlux (2),100,1e3)"
   ]
  },
  {
   "cell_type": "code",
   "execution_count": 20,
   "metadata": {},
   "outputs": [
    {
     "name": "stdout",
     "output_type": "stream",
     "text": [
      "4.353747190550529e-13\n"
     ]
    }
   ],
   "source": [
    "print(sens['flux'])"
   ]
  },
  {
   "cell_type": "code",
   "execution_count": 11,
   "metadata": {},
   "outputs": [],
   "source": [
    "def get_sens(ana,sindec,gamma,batch_size=500):\n",
    "    src = utils.Sources(ra=0, dec = np.arcsin(sindec))\n",
    "    flux = hyp.PowerLawFlux(gamma)\n",
    "    tr = get_tr(src, ana, flux=flux)\n",
    "    bg = tr.get_many_fits(500)\n",
    "    bg = dists.Chi2TSD(bg, floc=0)\n",
    "    sens = tr.find_n_sig(bg.median(),0.9,batch_size=batch_size,max_batch_size=1000,tol=0.03) #firstbatchsize=100 or covereage=2\n",
    "    sens['flux'] = tr.to_E2dNdE(sens['n_sig'],hyp.PowerLawFlux (2),100,1e3)\n",
    "    return sens['flux']"
   ]
  },
  {
   "cell_type": "code",
   "execution_count": 12,
   "metadata": {},
   "outputs": [],
   "source": [
    "def get_sens_mese(ana,sindec,gamma,batch_size=500):\n",
    "    src = utils.Sources(ra=0, dec = np.arcsin(sindec))\n",
    "    flux = hyp.PowerLawFlux(gamma)\n",
    "    tr = get_tr(src, ana, flux=flux)\n",
    "    bg = tr.get_many_fits(500)\n",
    "    bg = dists.Chi2TSD(bg, floc=0)\n",
    "    sens = tr.find_n_sig(bg.median(),0.9,batch_size=batch_size,max_batch_size=1000,tol=0.03) #firstbatchsize=100 or covereage=2\n",
    "    sens['flux'] = tr.to_E2dNdE(sens['n_sig'],hyp.PowerLawFlux (2),100,1e3)\n",
    "    return sens['flux']\n",
    "\n",
    "def get_discovery_mese(ana,sindec,gamma,batch_size=500):\n",
    "    src = utils.Sources(ra=0, dec = np.arcsin(sindec))\n",
    "    flux = hyp.PowerLawFlux(gamma)\n",
    "    tr = get_tr(src, ana, flux=flux)\n",
    "    bg = tr.get_many_fits(500)\n",
    "    bg = dists.Chi2TSD(bg, floc=0)\n",
    "    sens = tr.find_n_sig(bg.isf_nsigma(5,fit=True),0.5,batch_size=batch_size,max_batch_size=1000,tol=0.03) #firstbatchsize=100 or covereage=2\n",
    "    sens['flux'] = tr.to_E2dNdE(sens['n_sig'],hyp.PowerLawFlux (2),100,1e3)\n",
    "    return sens['flux']"
   ]
  },
  {
   "cell_type": "code",
   "execution_count": 13,
   "metadata": {},
   "outputs": [
    {
     "name": "stdout",
     "output_type": "stream",
     "text": [
      "Performing 500 background trials using 15 cores:\n",
      "        500/500 trials complete.   \n",
      "Start time: 2019-02-12 07:53:19.227812\n",
      "Using 15 cores.\n",
      "* Starting initial scan for 90% of 50 trials with TS >= 2.930...\n",
      "  n_sig = 3.000 ... frac = 0.78000\n",
      "  n_sig = 6.000 ... frac = 0.92000\n",
      "* Generating batches of 500 trials...\n",
      "n_trials | n_inj    0.00    1.80    3.60    5.40    7.20    9.00  | n_sig (relative error)\n",
      "500      |         52.4%   66.8%   80.4%   86.4%   91.0%   96.4%  |      6.819 (+/-  7.0%) [spline]\n",
      "1000     |         50.5%   67.9%   80.8%   88.7%   91.4%   96.6%  |      6.210 (+/-  9.7%) [spline]\n",
      "End time: 2019-02-12 07:54:17.565664\n",
      "Elapsed time: 0:00:58.337852\n"
     ]
    }
   ],
   "source": [
    "\n",
    "sens_arb = get_sens(ana_7,0,2)\n"
   ]
  },
  {
   "cell_type": "code",
   "execution_count": 30,
   "metadata": {},
   "outputs": [
    {
     "name": "stdout",
     "output_type": "stream",
     "text": [
      "3.891464989757494e-13\n"
     ]
    }
   ],
   "source": [
    "print(sens_arb)"
   ]
  },
  {
   "cell_type": "code",
   "execution_count": 40,
   "metadata": {},
   "outputs": [
    {
     "name": "stdout",
     "output_type": "stream",
     "text": [
      "Performing 500 background trials using 15 cores:\n",
      "        500/500 trials complete.   \n",
      "Start time: 2018-11-05 15:37:30.994090\n",
      "Using 15 cores.\n",
      "* Starting initial scan for 90% of 50 trials with TS >= 0.055...\n",
      "  n_sig = 3.000 ... frac = 0.90000\n",
      "* Generating batches of 500 trials...\n",
      "n_trials | n_inj    0.00    0.90    1.80    2.70    3.60    4.50  | n_sig (relative error)\n",
      "500      |         49.0%   66.0%   76.2%   85.8%   88.8%   89.8%  |        inf (+/-  0.0%) [chi2.cdf]\n",
      "End time: 2018-11-05 15:38:00.130488\n",
      "Elapsed time: 0:00:29.136398\n",
      "Performing 500 background trials using 15 cores:\n",
      "        500/500 trials complete.   \n",
      "Start time: 2018-11-05 15:38:05.200355\n",
      "Using 15 cores.\n",
      "* Starting initial scan for 90% of 50 trials with TS >= 0.025...\n",
      "  n_sig = 3.000 ... frac = 0.90000\n",
      "* Generating batches of 500 trials...\n",
      "n_trials | n_inj    0.00    0.90    1.80    2.70    3.60    4.50  | n_sig (relative error)\n",
      "500      |         44.8%   62.0%   71.6%   78.6%   87.4%   91.6%  |      4.055 (+/-  5.1%) [spline]\n",
      "1000     |         46.7%   63.2%   71.7%   79.0%   87.0%   92.3%  |      4.058 (+/-  3.4%) [spline]\n",
      "End time: 2018-11-05 15:38:59.678403\n",
      "Elapsed time: 0:00:54.478048\n",
      "Performing 500 background trials using 15 cores:\n",
      "        500/500 trials complete.   \n",
      "Start time: 2018-11-05 15:39:04.756245\n",
      "Using 15 cores.\n",
      "* Starting initial scan for 90% of 50 trials with TS >= 0.019...\n",
      "  n_sig = 3.000 ... frac = 0.82000\n",
      "  n_sig = 6.000 ... frac = 0.98000\n",
      "* Generating batches of 500 trials...\n",
      "n_trials | n_inj    0.00    1.80    3.60    5.40    7.20    9.00  | n_sig (relative error)\n",
      "500      |         52.6%   76.6%   87.6%   93.4%   96.0%   98.8%  |      4.210 (+/-  7.2%) [spline]\n",
      "1000     |         51.3%   75.8%   88.1%   93.8%   96.7%   98.8%  |      4.076 (+/-  5.4%) [spline]\n",
      "End time: 2018-11-05 15:40:09.098191\n",
      "Elapsed time: 0:01:04.341946\n",
      "Performing 500 background trials using 15 cores:\n",
      "        500/500 trials complete.   \n",
      "Start time: 2018-11-05 15:40:14.102539\n",
      "Using 15 cores.\n",
      "* Starting initial scan for 90% of 50 trials with TS >= 0.000...\n",
      "  n_sig = 3.000 ... frac = 0.90000\n",
      "* Generating batches of 500 trials...\n",
      "n_trials | n_inj    0.00    0.90    1.80    2.70    3.60    4.50  | n_sig (relative error)\n",
      "500      |         54.0%   65.8%   77.0%   86.0%   90.4%   94.2%  |      3.510 (+/-  7.8%) [spline]\n",
      "1000     |         54.5%   67.8%   79.1%   85.3%   90.4%   93.2%  |      3.507 (+/-  5.8%) [spline]\n",
      "End time: 2018-11-05 15:41:12.468547\n",
      "Elapsed time: 0:00:58.366008\n",
      "Performing 500 background trials using 15 cores:\n",
      "        500/500 trials complete.   \n",
      "Start time: 2018-11-05 15:41:17.708021\n",
      "Using 15 cores.\n",
      "* Starting initial scan for 90% of 50 trials with TS >= 0.062...\n",
      "  n_sig = 3.000 ... frac = 0.76000\n",
      "  n_sig = 6.000 ... frac = 0.94000\n",
      "* Generating batches of 500 trials...\n",
      "n_trials | n_inj    0.00    1.80    3.60    5.40    7.20    9.00  | n_sig (relative error)\n",
      "500      |         50.6%   75.4%   87.0%   92.0%   97.4%   98.4%  |      4.613 (+/- 10.2%) [spline]\n",
      "1000     |         50.1%   75.6%   85.6%   93.1%   97.7%   99.0%  |      4.569 (+/-  4.4%) [spline]\n",
      "End time: 2018-11-05 15:42:19.287049\n",
      "Elapsed time: 0:01:01.579028\n",
      "Performing 500 background trials using 15 cores:\n",
      "        500/500 trials complete.   \n",
      "Start time: 2018-11-05 15:42:25.434633\n",
      "Using 15 cores.\n",
      "* Starting initial scan for 90% of 50 trials with TS >= 0.057...\n",
      "  n_sig = 3.000 ... frac = 0.84000\n",
      "  n_sig = 6.000 ... frac = 0.94000\n",
      "* Generating batches of 500 trials...\n",
      "n_trials | n_inj    0.00    1.80    3.60    5.40    7.20    9.00  | n_sig (relative error)\n",
      "500      |         47.2%   78.6%   89.6%   94.0%   98.2%   99.4%  |      3.719 (+/- 10.0%) [spline]\n",
      "1000     |         49.3%   78.1%   87.7%   95.2%   98.2%   98.9%  |      4.080 (+/-  4.6%) [spline]\n",
      "End time: 2018-11-05 15:43:27.359860\n",
      "Elapsed time: 0:01:01.925227\n",
      "Performing 500 background trials using 15 cores:\n",
      "        500/500 trials complete.   \n",
      "Start time: 2018-11-05 15:43:32.355525\n",
      "Using 15 cores.\n",
      "* Starting initial scan for 90% of 50 trials with TS >= 0.124...\n",
      "  n_sig = 3.000 ... frac = 0.86000\n",
      "  n_sig = 6.000 ... frac = 1.00000\n",
      "* Generating batches of 500 trials...\n",
      "n_trials | n_inj    0.00    1.80    3.60    5.40    7.20    9.00  | n_sig (relative error)\n",
      "500      |         55.4%   79.8%   93.0%   95.8%   98.4%   99.2%  |      2.976 (+/-  6.4%) [spline]\n",
      "1000     |         53.1%   80.6%   92.5%   96.6%   98.6%   99.3%  |      3.046 (+/-  5.3%) [spline]\n",
      "End time: 2018-11-05 15:44:35.370961\n",
      "Elapsed time: 0:01:03.015436\n",
      "Performing 500 background trials using 15 cores:\n",
      "        500/500 trials complete.   \n",
      "Start time: 2018-11-05 15:44:40.343731\n",
      "Using 15 cores.\n",
      "* Starting initial scan for 90% of 50 trials with TS >= 0.191...\n",
      "  n_sig = 3.000 ... frac = 0.86000\n",
      "  n_sig = 6.000 ... frac = 1.00000\n",
      "* Generating batches of 500 trials...\n",
      "n_trials | n_inj    0.00    1.80    3.60    5.40    7.20    9.00  | n_sig (relative error)\n",
      "500      |         49.2%   78.0%   91.4%   95.6%   98.4%   99.0%  |      3.283 (+/-  8.4%) [spline]\n",
      "1000     |         47.8%   79.5%   90.8%   96.2%   98.3%   99.4%  |      3.411 (+/-  5.4%) [spline]\n",
      "End time: 2018-11-05 15:45:42.332160\n",
      "Elapsed time: 0:01:01.988429\n",
      "Performing 500 background trials using 15 cores:\n",
      "        500/500 trials complete.   \n",
      "Start time: 2018-11-05 15:45:47.935150\n",
      "Using 15 cores.\n",
      "* Starting initial scan for 90% of 50 trials with TS >= 0.306...\n",
      "  n_sig = 3.000 ... frac = 0.76000\n",
      "  n_sig = 6.000 ... frac = 0.94000\n",
      "* Generating batches of 500 trials...\n",
      "n_trials | n_inj    0.00    1.80    3.60    5.40    7.20    9.00  | n_sig (relative error)\n",
      "500      |         57.2%   70.6%   86.2%   92.0%   96.0%   96.6%  |      4.649 (+/-  8.1%) [spline]\n",
      "1000     |         53.9%   71.1%   84.5%   93.5%   96.4%   96.9%  |      4.538 (+/-  3.6%) [spline]\n",
      "End time: 2018-11-05 15:46:59.154841\n",
      "Elapsed time: 0:01:11.219691\n",
      "Performing 500 background trials using 15 cores:\n",
      "        500/500 trials complete.   \n",
      "Start time: 2018-11-05 15:47:05.208236\n",
      "Using 15 cores.\n",
      "* Starting initial scan for 90% of 50 trials with TS >= 0.111...\n",
      "  n_sig = 3.000 ... frac = 0.72000\n",
      "  n_sig = 6.000 ... frac = 0.94000\n",
      "* Generating batches of 500 trials...\n",
      "n_trials | n_inj    0.00    1.80    3.60    5.40    7.20    9.00  | n_sig (relative error)\n",
      "500      |         49.8%   66.0%   79.8%   90.0%   94.4%   96.6%  |      5.400 (+/-  6.4%) [spline]\n",
      "1000     |         49.5%   68.9%   79.2%   90.2%   94.6%   97.2%  |      5.345 (+/-  4.8%) [spline]\n",
      "End time: 2018-11-05 15:48:20.949388\n",
      "Elapsed time: 0:01:15.741152\n",
      "Performing 500 background trials using 15 cores:\n",
      "        500/500 trials complete.   \n",
      "Start time: 2018-11-05 15:48:27.408787\n",
      "Using 15 cores.\n",
      "* Starting initial scan for 90% of 50 trials with TS >= 0.181...\n",
      "  n_sig = 3.000 ... frac = 0.76000\n",
      "  n_sig = 6.000 ... frac = 0.94000\n",
      "* Generating batches of 500 trials...\n",
      "n_trials | n_inj    0.00    1.80    3.60    5.40    7.20    9.00  | n_sig (relative error)\n",
      "500      |         47.2%   64.2%   84.8%   87.2%   95.0%   95.8%  |      6.061 (+/-  3.9%) [spline]\n",
      "1000     |         48.2%   66.1%   83.0%   89.3%   94.4%   96.6%  |      5.620 (+/-  4.8%) [spline]\n",
      "End time: 2018-11-05 15:49:46.964555\n",
      "Elapsed time: 0:01:19.555768\n",
      "Performing 500 background trials using 15 cores:\n",
      "        500/500 trials complete.   \n",
      "Start time: 2018-11-05 15:49:53.243697\n",
      "Using 15 cores.\n",
      "* Starting initial scan for 90% of 50 trials with TS >= 0.133...\n",
      "  n_sig = 3.000 ... frac = 0.82000\n",
      "  n_sig = 6.000 ... frac = 0.82000\n",
      "  n_sig = 9.000 ... frac = 0.94000\n",
      "* Generating batches of 500 trials...\n",
      "n_trials | n_inj    0.00    2.70    5.40    8.10   10.80   13.50  | n_sig (relative error)\n",
      "500      |         46.2%   67.2%   85.6%   95.0%   97.4%   99.4%  |      6.398 (+/-  4.7%) [spline]\n",
      "1000     |         45.1%   69.8%   86.7%   95.3%   97.5%   99.4%  |      6.207 (+/-  3.0%) [spline]\n",
      "End time: 2018-11-05 15:51:16.498698\n",
      "Elapsed time: 0:01:23.255001\n",
      "Performing 500 background trials using 15 cores:\n",
      "        500/500 trials complete.   \n",
      "Start time: 2018-11-05 15:51:22.675313\n",
      "Using 15 cores.\n",
      "* Starting initial scan for 90% of 50 trials with TS >= 0.110...\n",
      "  n_sig = 3.000 ... frac = 0.72000\n",
      "  n_sig = 6.000 ... frac = 0.90000\n",
      "* Generating batches of 500 trials...\n",
      "n_trials | n_inj    0.00    1.80    3.60    5.40    7.20    9.00  | n_sig (relative error)\n"
     ]
    },
    {
     "name": "stdout",
     "output_type": "stream",
     "text": [
      "500      |         48.6%   70.6%   80.8%   87.6%   92.4%   95.4%  |      6.211 (+/-  6.3%) [spline]\n",
      "1000     |         47.9%   69.3%   81.0%   86.2%   92.9%   96.0%  |      6.360 (+/-  3.9%) [spline]\n",
      "End time: 2018-11-05 15:52:40.679646\n",
      "Elapsed time: 0:01:18.004333\n",
      "Performing 500 background trials using 15 cores:\n",
      "        500/500 trials complete.   \n",
      "Start time: 2018-11-05 15:52:46.877956\n",
      "Using 15 cores.\n",
      "* Starting initial scan for 90% of 50 trials with TS >= 0.091...\n",
      "  n_sig = 3.000 ... frac = 0.84000\n",
      "  n_sig = 6.000 ... frac = 0.86000\n",
      "  n_sig = 9.000 ... frac = 0.94000\n",
      "* Generating batches of 500 trials...\n",
      "n_trials | n_inj    0.00    2.70    5.40    8.10   10.80   13.50  | n_sig (relative error)\n",
      "500      |         55.0%   76.8%   86.2%   94.8%   97.4%   99.6%  |      6.443 (+/-  5.5%) [spline]\n",
      "1000     |         53.4%   76.6%   87.0%   95.1%   97.6%   99.0%  |      6.253 (+/-  3.7%) [spline]\n",
      "End time: 2018-11-05 15:54:07.097970\n",
      "Elapsed time: 0:01:20.220014\n",
      "Performing 500 background trials using 15 cores:\n",
      "        500/500 trials complete.   \n",
      "Start time: 2018-11-05 15:54:13.885145\n",
      "Using 15 cores.\n",
      "* Starting initial scan for 90% of 50 trials with TS >= 0.105...\n",
      "  n_sig = 3.000 ... frac = 0.86000\n",
      "  n_sig = 6.000 ... frac = 0.92000\n",
      "* Generating batches of 500 trials...\n",
      "n_trials | n_inj    0.00    1.80    3.60    5.40    7.20    9.00  | n_sig (relative error)\n",
      "500      |         47.8%   66.4%   77.4%   87.6%   92.6%   97.0%  |      6.166 (+/-  6.5%) [spline]\n",
      "1000     |         48.9%   63.8%   78.2%   87.8%   93.4%   96.2%  |      5.993 (+/-  3.9%) [spline]\n",
      "End time: 2018-11-05 15:55:29.505768\n",
      "Elapsed time: 0:01:15.620623\n",
      "Performing 500 background trials using 15 cores:\n",
      "        500/500 trials complete.   \n",
      "Start time: 2018-11-05 15:55:35.701242\n",
      "Using 15 cores.\n",
      "* Starting initial scan for 90% of 50 trials with TS >= 0.037...\n",
      "  n_sig = 3.000 ... frac = 0.88000\n",
      "  n_sig = 6.000 ... frac = 0.96000\n",
      "* Generating batches of 500 trials...\n",
      "n_trials | n_inj    0.00    1.80    3.60    5.40    7.20    9.00  | n_sig (relative error)\n",
      "500      |         50.0%   72.0%   80.6%   89.2%   92.4%   96.6%  |      5.753 (+/-  9.6%) [spline]\n",
      "1000     |         50.0%   70.7%   80.9%   89.0%   92.0%   96.4%  |      5.899 (+/-  7.8%) [spline]\n",
      "End time: 2018-11-05 15:56:51.512945\n",
      "Elapsed time: 0:01:15.811703\n",
      "Performing 500 background trials using 15 cores:\n",
      "        500/500 trials complete.   \n",
      "Start time: 2018-11-05 15:56:58.152685\n",
      "Using 15 cores.\n",
      "* Starting initial scan for 90% of 50 trials with TS >= 0.100...\n",
      "  n_sig = 3.000 ... frac = 0.70000\n",
      "  n_sig = 6.000 ... frac = 0.84000\n",
      "  n_sig = 9.000 ... frac = 0.90000\n",
      "* Generating batches of 500 trials...\n",
      "n_trials | n_inj    0.00    2.70    5.40    8.10   10.80   13.50  | n_sig (relative error)\n",
      "500      |         50.0%   68.2%   79.8%   91.8%   96.8%   97.8%  |      7.553 (+/-  4.4%) [spline]\n",
      "1000     |         50.0%   65.3%   81.7%   91.3%   96.6%   98.2%  |      7.623 (+/-  4.6%) [spline]\n",
      "End time: 2018-11-05 15:58:17.131823\n",
      "Elapsed time: 0:01:18.979138\n",
      "Performing 500 background trials using 15 cores:\n",
      "        500/500 trials complete.   \n",
      "Start time: 2018-11-05 15:58:24.053819\n",
      "Using 15 cores.\n",
      "* Starting initial scan for 90% of 50 trials with TS >= 0.076...\n",
      "  n_sig = 3.000 ... frac = 0.84000\n",
      "  n_sig = 6.000 ... frac = 0.88000\n",
      "  n_sig = 9.000 ... frac = 0.90000\n",
      "* Generating batches of 500 trials...\n",
      "n_trials | n_inj    0.00    2.70    5.40    8.10   10.80   13.50  | n_sig (relative error)\n",
      "500      |         48.2%   75.0%   86.6%   95.0%   96.0%   99.0%  |      6.277 (+/-  4.3%) [spline]\n",
      "1000     |         49.1%   75.3%   86.9%   93.3%   96.8%   98.9%  |      6.518 (+/-  4.4%) [spline]\n",
      "End time: 2018-11-05 15:59:41.507733\n",
      "Elapsed time: 0:01:17.453914\n"
     ]
    }
   ],
   "source": [
    "dec_array = np.linspace(-0.9,0.9,5)\n",
    "sens_list = []\n",
    "\n",
    "sens = [get_sens(ana_7,dec, gamma=2) for dec in decarray]\n",
    "\n",
    "    "
   ]
  },
  {
   "cell_type": "code",
   "execution_count": 22,
   "metadata": {},
   "outputs": [
    {
     "name": "stdout",
     "output_type": "stream",
     "text": [
      "[-0.9 -0.7 -0.5 -0.3 -0.1  0.1  0.3  0.5  0.7  0.9]\n"
     ]
    }
   ],
   "source": [
    "dec_array_3 = np.linspace(-0.9,0.9,10)\n",
    "mese_sens_list = []\n",
    "\n",
    "\n",
    "np.save('test.npy',dec_array_3)\n",
    "print(dec_array_3)\n",
    "#for dec in dec_array_3:\n",
    "#    sensitivity = get_sens_mese(dec,2)\n",
    "#    mese_sens_list.append(sensitivity)"
   ]
  },
  {
   "cell_type": "code",
   "execution_count": 53,
   "metadata": {},
   "outputs": [
    {
     "data": {
      "text/plain": [
       "[<matplotlib.lines.Line2D at 0x7f8e70c66110>]"
      ]
     },
     "execution_count": 53,
     "metadata": {},
     "output_type": "execute_result"
    },
    {
     "data": {
      "image/png": "[encoded data removed]",
      "text/plain": [
       "<matplotlib.figure.Figure at 0x7f8e70c66a90>"
      ]
     },
     "metadata": {},
     "output_type": "display_data"
    }
   ],
   "source": [
    "plt.semilogy(dec_array,sens_list)\n",
    "sd,phi = repo.get_performance('sens_E200_ps7yr')[:2]\n",
    "plt.semilogy(sd,phi,color='r')\n",
    "plt.semilogy(dec_array_3,mese_sens_list,color='b')"
   ]
  },
  {
   "cell_type": "markdown",
   "metadata": {},
   "source": [
    "# Galactic Plane"
   ]
  },
  {
   "cell_type": "code",
   "execution_count": 9,
   "metadata": {},
   "outputs": [
    {
     "name": "stdout",
     "output_type": "stream",
     "text": [
      "Setting up Analysis for:\n",
      "IC40, IC59, IC79, IC86_2011, IC86_2012_2014\n",
      "Setting up IC40...\n",
      "<- /data/user/drysewyk/csky_cache/ana/IC40.subanalysis.npy    \n",
      "Setting up IC59...\n",
      "<- /data/user/drysewyk/csky_cache/ana/IC59.subanalysis.npy    \n",
      "Setting up IC79...\n",
      "<- /data/user/drysewyk/csky_cache/ana/IC79.subanalysis.npy    \n",
      "Setting up IC86_2011...\n",
      "<- /data/user/drysewyk/csky_cache/ana/IC86_2011.subanalysis.npy    \n",
      "Setting up IC86_2012_2014...\n",
      "<- /data/user/drysewyk/csky_cache/ana/IC86_2012_2014.subanalysis.npy    \n",
      "Done.\n"
     ]
    }
   ],
   "source": [
    "ana7 = analysis.Analysis (repo, selections.PSDataSpecs.ps_7yr, dir=ana_dir)"
   ]
  },
  {
   "cell_type": "code",
   "execution_count": 10,
   "metadata": {},
   "outputs": [],
   "source": [
    "def get_llh_map (a, map, fit_gamma, dir):\n",
    "    flux = hyp.PowerLawFlux (2.5)\n",
    "    if not fit_gamma:\n",
    "        acc_param = a.get_custom_flux_acc_parameterization (flux)\n",
    "        energy_model = a.get_custom_flux_energy_pdf_ratio_model (flux)\n",
    "    else:\n",
    "        acc_param = a.acc_param\n",
    "        energy_model = a.energy_pdf_ratio_model\n",
    "    space_model = pdf.TemplateSpacePDFRatioModel (\n",
    "        a, map, a.bg_space_param, acc_param, sigsub=True,\n",
    "        flux=hyp.PowerLawFlux (2.5), fast_weight=True, dir=dir)\n",
    "    pdf_ratio_model = pdf.MultiPDFRatioModel (space_model, energy_model)\n",
    "    llh_model = llh.LLHModel (pdf_ratio_model, len (a.data), sigsub=True)\n",
    "    return llh_model\n",
    "\n",
    "def get_injs_map (a, llh_model):\n",
    "    keep = llh_model.pdf_ratio_model.keep\n",
    "    t = inj.DataInjector (a, a.data, keep, randomizers=[])\n",
    "    b = inj.DataInjector (a, a.data, keep)\n",
    "    s = inj.TemplateInjector (a, llh_model.pdf_ratio_model.acc_weighted_model, keep)\n",
    "    return t, b, s\n",
    "\n",
    "def get_tr_map (map, ana=ana7, fit_gamma=True, dir='', ns_min=0, mp_cpus=mp_cpus):\n",
    "    llh_kw = dict (map=map, fit_gamma=fit_gamma, dir=dir)\n",
    "    inj_kw = dict ()\n",
    "    fitter_args = dict (_ns_min=ns_min)\n",
    "    return trial.get_trial_runner (\n",
    "        ana, get_llh_map, get_injs_map,\n",
    "        llh_kw=llh_kw, inj_kw=inj_kw,\n",
    "        fitter_args=fitter_args, mp_cpus=mp_cpus)\n"
   ]
  },
  {
   "cell_type": "code",
   "execution_count": 11,
   "metadata": {},
   "outputs": [
    {
     "name": "stdout",
     "output_type": "stream",
     "text": [
      "Reading /data/user/mrichman/data/analyses/templates/Fermi-LAT_pi0_map.npy ...\n"
     ]
    }
   ],
   "source": [
    "pi0_dir = '/data/user/drysewyk/csky_cache/templates/pi0'\n",
    "map_pi0 = repo.get_template ('Fermi-LAT_pi0_map')"
   ]
  },
  {
   "cell_type": "code",
   "execution_count": 12,
   "metadata": {},
   "outputs": [
    {
     "name": "stdout",
     "output_type": "stream",
     "text": [
      "<- /data/user/drysewyk/csky_cache/templates/pi0/IC40.template.fastweight.npy    \n",
      "Restore successful.\n",
      "<- /data/user/drysewyk/csky_cache/templates/pi0/IC59.template.fastweight.npy    \n",
      "Restore successful.\n",
      "<- /data/user/drysewyk/csky_cache/templates/pi0/IC79.template.fastweight.npy    \n",
      "Restore successful.\n",
      "<- /data/user/drysewyk/csky_cache/templates/pi0/IC86_2011.template.fastweight.npy    \n",
      "Restore successful.\n",
      "<- /data/user/drysewyk/csky_cache/templates/pi0/IC86_2012_2014.template.fastweight.npy    \n",
      "Restore successful.\n"
     ]
    }
   ],
   "source": [
    "tr_pi0_E250 = get_tr_map (map_pi0, fit_gamma=False, ns_min=-5, dir=pi0_dir)"
   ]
  },
  {
   "cell_type": "code",
   "execution_count": 13,
   "metadata": {},
   "outputs": [
    {
     "data": {
      "text/plain": [
       "[4.7844330080062045, 593.1800856983913]"
      ]
     },
     "execution_count": 13,
     "metadata": {},
     "output_type": "execute_result"
    }
   ],
   "source": [
    "tr_pi0_E250.get_one_fit (TRUTH=False)"
   ]
  },
  {
   "cell_type": "code",
   "execution_count": 14,
   "metadata": {},
   "outputs": [
    {
     "name": "stdout",
     "output_type": "stream",
     "text": [
      "Performing 250 background trials using 15 cores:\n",
      "        250/250 trials complete.   \n"
     ]
    }
   ],
   "source": [
    "bg_trials = tr_pi0_E250.get_many_fits (250)"
   ]
  },
  {
   "cell_type": "code",
   "execution_count": 15,
   "metadata": {},
   "outputs": [],
   "source": [
    "bg_trials = dists.Chi2TSD(bg_trials)"
   ]
  },
  {
   "cell_type": "code",
   "execution_count": 16,
   "metadata": {},
   "outputs": [
    {
     "data": {
      "image/png": "[encoded data removed]",
      "text/plain": [
       "<matplotlib.figure.Figure at 0x7f54c29973d0>"
      ]
     },
     "metadata": {},
     "output_type": "display_data"
    }
   ],
   "source": [
    "fig, ax = plt.subplots ()\n",
    "h = bg_trials.get_hist (bins=50)\n",
    "hl.plot1d (ax, h.normalize (), crosses=True)\n",
    "x = np.linspace (.1, h.range[0][-1], 100)\n",
    "ax.semilogy (x, bg_trials.eta * bg_trials.chi2.pdf (x), 'k--', lw=1)\n",
    "plt.tight_layout ()"
   ]
  },
  {
   "cell_type": "code",
   "execution_count": 17,
   "metadata": {},
   "outputs": [
    {
     "name": "stdout",
     "output_type": "stream",
     "text": [
      "<- /data/user/drysewyk/csky_cache/templates/pi0/IC40.template.fastweight.npy    \n",
      "Restore successful.\n",
      "<- /data/user/drysewyk/csky_cache/templates/pi0/IC59.template.fastweight.npy    \n",
      "Restore successful.\n",
      "<- /data/user/drysewyk/csky_cache/templates/pi0/IC79.template.fastweight.npy    \n",
      "Restore successful.\n",
      "<- /data/user/drysewyk/csky_cache/templates/pi0/IC86_2011.template.fastweight.npy    \n",
      "Restore successful.\n",
      "<- /data/user/drysewyk/csky_cache/templates/pi0/IC86_2012_2014.template.fastweight.npy    \n",
      "Restore successful.\n"
     ]
    }
   ],
   "source": [
    "tr_pi0_gammatrue = get_tr_map (map_pi0, fit_gamma=True, ns_min=-5, dir=pi0_dir)"
   ]
  },
  {
   "cell_type": "code",
   "execution_count": null,
   "metadata": {},
   "outputs": [
    {
     "name": "stdout",
     "output_type": "stream",
     "text": [
      "Performing 250 background trials using 15 cores:\n",
      "        206/250 trials complete..."
     ]
    }
   ],
   "source": [
    "bg_trials_gammatrue = tr_pi0_gammatrue.get_many_fits (250)"
   ]
  },
  {
   "cell_type": "code",
   "execution_count": 35,
   "metadata": {},
   "outputs": [],
   "source": [
    "def get_sens_map(map,fit_gamma = False,batch_size=500):\n",
    "    tr = get_tr_map(map,dir = pi0_dir,ns_min=-5)\n",
    "    bg = tr.get_many_fits(250)\n",
    "    bg = dists.Chi2TSD(bg, floc=0)\n",
    "    sens = tr.find_n_sig(bg.median(),0.9,batch_size=batch_size,max_batch_size=1000,tol=0.03) #firstbatchsize=100 or covereage=2\n",
    "    sens['flux'] = tr.to_E2dNdE(sens['n_sig'],hyp.PowerLawFlux (2.5),100,1e3)\n",
    "    return sens['flux']"
   ]
  },
  {
   "cell_type": "code",
   "execution_count": 37,
   "metadata": {},
   "outputs": [
    {
     "name": "stdout",
     "output_type": "stream",
     "text": [
      "<- /data/user/drysewyk/csky_cache/templates/pi0/IC40.template.fastweight.npy    \n",
      "Restore successful.\n",
      "<- /data/user/drysewyk/csky_cache/templates/pi0/IC59.template.fastweight.npy    \n",
      "Restore successful.\n",
      "<- /data/user/drysewyk/csky_cache/templates/pi0/IC79.template.fastweight.npy    \n",
      "Restore successful.\n",
      "<- /data/user/drysewyk/csky_cache/templates/pi0/IC86_2011.template.fastweight.npy    \n",
      "Restore successful.\n",
      "<- /data/user/drysewyk/csky_cache/templates/pi0/IC86_2012_2014.template.fastweight.npy    \n",
      "Restore successful.\n",
      "Performing 250 background trials using 15 cores:\n",
      "        250/250 trials complete.   \n",
      "Start time: 2018-11-06 09:59:17.452901\n",
      "Using 15 cores.\n",
      "* Starting initial scan for 90% of 50 trials with TS >= 0.985...\n",
      "  n_sig = 3.000 ... frac = 0.56000\n",
      "  n_sig = 6.000 ...\n",
      "KeyboardInterrupt: terminating early.\n"
     ]
    },
    {
     "ename": "IndexError",
     "evalue": "too many indices for array",
     "output_type": "error",
     "traceback": [
      "\u001b[0;31m---------------------------------------------------------------------------\u001b[0m",
      "\u001b[0;31mIndexError\u001b[0m                                Traceback (most recent call last)",
      "\u001b[0;32m<ipython-input-37-fbad91a7bbb4>\u001b[0m in \u001b[0;36m<module>\u001b[0;34m()\u001b[0m\n\u001b[0;32m----> 1\u001b[0;31m \u001b[0msens_map\u001b[0m \u001b[0;34m=\u001b[0m \u001b[0mget_sens_map\u001b[0m\u001b[0;34m(\u001b[0m\u001b[0mmap_pi0\u001b[0m\u001b[0;34m,\u001b[0m\u001b[0mfit_gamma\u001b[0m\u001b[0;34m=\u001b[0m\u001b[0mFalse\u001b[0m\u001b[0;34m)\u001b[0m\u001b[0;34m\u001b[0m\u001b[0m\n\u001b[0m",
      "\u001b[0;32m<ipython-input-35-d0d7b01c9985>\u001b[0m in \u001b[0;36mget_sens_map\u001b[0;34m(map, fit_gamma, batch_size)\u001b[0m\n\u001b[1;32m      3\u001b[0m     \u001b[0mbg\u001b[0m \u001b[0;34m=\u001b[0m \u001b[0mtr\u001b[0m\u001b[0;34m.\u001b[0m\u001b[0mget_many_fits\u001b[0m\u001b[0;34m(\u001b[0m\u001b[0;36m250\u001b[0m\u001b[0;34m)\u001b[0m\u001b[0;34m\u001b[0m\u001b[0m\n\u001b[1;32m      4\u001b[0m     \u001b[0mbg\u001b[0m \u001b[0;34m=\u001b[0m \u001b[0mdists\u001b[0m\u001b[0;34m.\u001b[0m\u001b[0mChi2TSD\u001b[0m\u001b[0;34m(\u001b[0m\u001b[0mbg\u001b[0m\u001b[0;34m,\u001b[0m \u001b[0mfloc\u001b[0m\u001b[0;34m=\u001b[0m\u001b[0;36m0\u001b[0m\u001b[0;34m)\u001b[0m\u001b[0;34m\u001b[0m\u001b[0m\n\u001b[0;32m----> 5\u001b[0;31m     \u001b[0msens\u001b[0m \u001b[0;34m=\u001b[0m \u001b[0mtr\u001b[0m\u001b[0;34m.\u001b[0m\u001b[0mfind_n_sig\u001b[0m\u001b[0;34m(\u001b[0m\u001b[0mbg\u001b[0m\u001b[0;34m.\u001b[0m\u001b[0mmedian\u001b[0m\u001b[0;34m(\u001b[0m\u001b[0;34m)\u001b[0m\u001b[0;34m,\u001b[0m\u001b[0;36m0.9\u001b[0m\u001b[0;34m,\u001b[0m\u001b[0mbatch_size\u001b[0m\u001b[0;34m=\u001b[0m\u001b[0mbatch_size\u001b[0m\u001b[0;34m,\u001b[0m\u001b[0mmax_batch_size\u001b[0m\u001b[0;34m=\u001b[0m\u001b[0;36m1000\u001b[0m\u001b[0;34m,\u001b[0m\u001b[0mtol\u001b[0m\u001b[0;34m=\u001b[0m\u001b[0;36m0.03\u001b[0m\u001b[0;34m)\u001b[0m \u001b[0;31m#firstbatchsize=100 or covereage=2\u001b[0m\u001b[0;34m\u001b[0m\u001b[0m\n\u001b[0m\u001b[1;32m      6\u001b[0m     \u001b[0msens\u001b[0m\u001b[0;34m[\u001b[0m\u001b[0;34m'flux'\u001b[0m\u001b[0;34m]\u001b[0m \u001b[0;34m=\u001b[0m \u001b[0mtr\u001b[0m\u001b[0;34m.\u001b[0m\u001b[0mto_E2dNdE\u001b[0m\u001b[0;34m(\u001b[0m\u001b[0msens\u001b[0m\u001b[0;34m[\u001b[0m\u001b[0;34m'n_sig'\u001b[0m\u001b[0;34m]\u001b[0m\u001b[0;34m,\u001b[0m\u001b[0mhyp\u001b[0m\u001b[0;34m.\u001b[0m\u001b[0mPowerLawFlux\u001b[0m \u001b[0;34m(\u001b[0m\u001b[0;36m2.5\u001b[0m\u001b[0;34m)\u001b[0m\u001b[0;34m,\u001b[0m\u001b[0;36m100\u001b[0m\u001b[0;34m,\u001b[0m\u001b[0;36m1e3\u001b[0m\u001b[0;34m)\u001b[0m\u001b[0;34m\u001b[0m\u001b[0m\n\u001b[1;32m      7\u001b[0m     \u001b[0;32mreturn\u001b[0m \u001b[0msens\u001b[0m\u001b[0;34m[\u001b[0m\u001b[0;34m'flux'\u001b[0m\u001b[0;34m]\u001b[0m\u001b[0;34m\u001b[0m\u001b[0m\n",
      "\u001b[0;32m/home/drysewyk/.local/lib/python2.7/site-packages/csky/trial.pyc\u001b[0m in \u001b[0;36mfind_n_sig\u001b[0;34m(self, ts, beta, tol, n_batches, batch_size, coverage, n_sig_step, n_sig_start, first_batch_size, min_batch_size, max_batch_size, tss, mp_cpus, seed, logging)\u001b[0m\n\u001b[1;32m    390\u001b[0m                     \u001b[0mfirst_batch_size\u001b[0m\u001b[0;34m,\u001b[0m \u001b[0mn_sig\u001b[0m\u001b[0;34m,\u001b[0m \u001b[0mpoisson\u001b[0m\u001b[0;34m=\u001b[0m\u001b[0mTrue\u001b[0m\u001b[0;34m,\u001b[0m \u001b[0mlogging\u001b[0m\u001b[0;34m=\u001b[0m\u001b[0mFalse\u001b[0m\u001b[0;34m,\u001b[0m\u001b[0;34m\u001b[0m\u001b[0m\n\u001b[1;32m    391\u001b[0m                     \u001b[0mseed\u001b[0m\u001b[0;34m=\u001b[0m\u001b[0mrandom\u001b[0m\u001b[0;34m.\u001b[0m\u001b[0mrandint\u001b[0m \u001b[0;34m(\u001b[0m\u001b[0;36m2\u001b[0m\u001b[0;34m**\u001b[0m\u001b[0;36m32\u001b[0m\u001b[0;34m)\u001b[0m\u001b[0;34m,\u001b[0m\u001b[0;34m\u001b[0m\u001b[0m\n\u001b[0;32m--> 392\u001b[0;31m                     mp_cpus=min (mp_cpus, int (np.ceil (first_batch_size / 2)))).ts\n\u001b[0m\u001b[1;32m    393\u001b[0m                 \u001b[0mcount_initial_batches\u001b[0m \u001b[0;34m+=\u001b[0m \u001b[0;36m1\u001b[0m\u001b[0;34m\u001b[0m\u001b[0m\n\u001b[1;32m    394\u001b[0m                 \u001b[0mcount_initial_trials\u001b[0m \u001b[0;34m+=\u001b[0m \u001b[0mfirst_batch_size\u001b[0m\u001b[0;34m\u001b[0m\u001b[0m\n",
      "\u001b[0;32m/home/drysewyk/.local/lib/python2.7/site-packages/csky/trial.pyc\u001b[0m in \u001b[0;36mget_many_fits\u001b[0;34m(self, n_trials, n_sig, poisson, seed, mp_cpus, logging)\u001b[0m\n\u001b[1;32m    335\u001b[0m             \u001b[0mfitss\u001b[0m \u001b[0;34m=\u001b[0m \u001b[0;34m[\u001b[0m\u001b[0mqueue\u001b[0m\u001b[0;34m.\u001b[0m\u001b[0mget\u001b[0m \u001b[0;34m(\u001b[0m\u001b[0;34m)\u001b[0m \u001b[0;32mfor\u001b[0m \u001b[0mproc\u001b[0m \u001b[0;32min\u001b[0m \u001b[0mprocs\u001b[0m\u001b[0;34m]\u001b[0m\u001b[0;34m\u001b[0m\u001b[0m\n\u001b[1;32m    336\u001b[0m             \u001b[0;34m[\u001b[0m\u001b[0mproc\u001b[0m\u001b[0;34m.\u001b[0m\u001b[0mjoin\u001b[0m \u001b[0;34m(\u001b[0m\u001b[0;34m)\u001b[0m \u001b[0;32mfor\u001b[0m \u001b[0mproc\u001b[0m \u001b[0;32min\u001b[0m \u001b[0mprocs\u001b[0m\u001b[0;34m]\u001b[0m\u001b[0;34m\u001b[0m\u001b[0m\n\u001b[0;32m--> 337\u001b[0;31m             \u001b[0mfitss\u001b[0m \u001b[0;34m=\u001b[0m \u001b[0;34m[\u001b[0m\u001b[0mself\u001b[0m\u001b[0;34m.\u001b[0m\u001b[0m_fits_np_to_Arrays\u001b[0m \u001b[0;34m(\u001b[0m\u001b[0mfits\u001b[0m\u001b[0;34m[\u001b[0m\u001b[0;36m1\u001b[0m\u001b[0;34m]\u001b[0m\u001b[0;34m)\u001b[0m \u001b[0;32mfor\u001b[0m \u001b[0mfits\u001b[0m \u001b[0;32min\u001b[0m \u001b[0msorted\u001b[0m \u001b[0;34m(\u001b[0m\u001b[0mfitss\u001b[0m\u001b[0;34m)\u001b[0m\u001b[0;34m]\u001b[0m\u001b[0;34m\u001b[0m\u001b[0m\n\u001b[0m\u001b[1;32m    338\u001b[0m             \u001b[0mfits\u001b[0m \u001b[0;34m=\u001b[0m \u001b[0mutils\u001b[0m\u001b[0;34m.\u001b[0m\u001b[0mArrays\u001b[0m\u001b[0;34m.\u001b[0m\u001b[0mconcatenate\u001b[0m \u001b[0;34m(\u001b[0m\u001b[0mfitss\u001b[0m\u001b[0;34m)\u001b[0m\u001b[0;34m\u001b[0m\u001b[0m\n\u001b[1;32m    339\u001b[0m             \u001b[0;32mif\u001b[0m \u001b[0mlogging\u001b[0m\u001b[0;34m:\u001b[0m\u001b[0;34m\u001b[0m\u001b[0m\n",
      "\u001b[0;32m/home/drysewyk/.local/lib/python2.7/site-packages/csky/trial.pyc\u001b[0m in \u001b[0;36m_fits_np_to_Arrays\u001b[0;34m(self, fits)\u001b[0m\n\u001b[1;32m    254\u001b[0m         return utils.Arrays ({\n\u001b[1;32m    255\u001b[0m             \u001b[0mparam_name\u001b[0m\u001b[0;34m:\u001b[0m \u001b[0mfits\u001b[0m\u001b[0;34m[\u001b[0m\u001b[0;34m:\u001b[0m\u001b[0;34m,\u001b[0m\u001b[0mi\u001b[0m\u001b[0;34m+\u001b[0m\u001b[0;36m1\u001b[0m\u001b[0;34m]\u001b[0m\u001b[0;34m\u001b[0m\u001b[0m\n\u001b[0;32m--> 256\u001b[0;31m             for (i, param_name) in enumerate (self.param_names)}, ts=fits[:,0])\n\u001b[0m\u001b[1;32m    257\u001b[0m \u001b[0;34m\u001b[0m\u001b[0m\n\u001b[1;32m    258\u001b[0m     def _get_some_fits (self, n_trials, seeds, n_sig=0, poisson=False,\n",
      "\u001b[0;32m/home/drysewyk/.local/lib/python2.7/site-packages/csky/trial.pyc\u001b[0m in \u001b[0;36m<dictcomp>\u001b[0;34m((i, param_name))\u001b[0m\n\u001b[1;32m    254\u001b[0m         return utils.Arrays ({\n\u001b[1;32m    255\u001b[0m             \u001b[0mparam_name\u001b[0m\u001b[0;34m:\u001b[0m \u001b[0mfits\u001b[0m\u001b[0;34m[\u001b[0m\u001b[0;34m:\u001b[0m\u001b[0;34m,\u001b[0m\u001b[0mi\u001b[0m\u001b[0;34m+\u001b[0m\u001b[0;36m1\u001b[0m\u001b[0;34m]\u001b[0m\u001b[0;34m\u001b[0m\u001b[0m\n\u001b[0;32m--> 256\u001b[0;31m             for (i, param_name) in enumerate (self.param_names)}, ts=fits[:,0])\n\u001b[0m\u001b[1;32m    257\u001b[0m \u001b[0;34m\u001b[0m\u001b[0m\n\u001b[1;32m    258\u001b[0m     def _get_some_fits (self, n_trials, seeds, n_sig=0, poisson=False,\n",
      "\u001b[0;31mIndexError\u001b[0m: too many indices for array"
     ]
    }
   ],
   "source": [
    "sens_map = get_sens_map(map_pi0,fit_gamma=False)"
   ]
  },
  {
   "cell_type": "code",
   "execution_count": null,
   "metadata": {},
   "outputs": [],
   "source": []
  }
 ],
 "metadata": {
  "kernelspec": {
   "display_name": "Python 2",
   "language": "python",
   "name": "python2"
  },
  "language_info": {
   "codemirror_mode": {
    "name": "ipython",
    "version": 2
   },
   "file_extension": ".py",
   "mimetype": "text/x-python",
   "name": "python",
   "nbconvert_exporter": "python",
   "pygments_lexer": "ipython2",
   "version": "2.7.13"
  }
 },
 "nbformat": 4,
 "nbformat_minor": 2
}
